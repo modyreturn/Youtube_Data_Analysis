{
 "cells": [
  {
   "cell_type": "code",
   "execution_count": 2,
   "metadata": {},
   "outputs": [
    {
     "data": {
      "application/vnd.microsoft.datawrangler.viewer.v0+json": {
       "columns": [
        {
         "name": "index",
         "rawType": "int64",
         "type": "integer"
        },
        {
         "name": "video_id",
         "rawType": "object",
         "type": "string"
        },
        {
         "name": "title",
         "rawType": "object",
         "type": "string"
        },
        {
         "name": "description",
         "rawType": "object",
         "type": "string"
        },
        {
         "name": "published_at",
         "rawType": "object",
         "type": "string"
        },
        {
         "name": "channel_id",
         "rawType": "object",
         "type": "string"
        },
        {
         "name": "channel_title",
         "rawType": "object",
         "type": "string"
        },
        {
         "name": "category_id",
         "rawType": "int64",
         "type": "integer"
        },
        {
         "name": "tags",
         "rawType": "object",
         "type": "string"
        },
        {
         "name": "duration",
         "rawType": "object",
         "type": "string"
        },
        {
         "name": "definition",
         "rawType": "object",
         "type": "string"
        },
        {
         "name": "caption",
         "rawType": "bool",
         "type": "boolean"
        },
        {
         "name": "view_count",
         "rawType": "int64",
         "type": "integer"
        },
        {
         "name": "like_count",
         "rawType": "int64",
         "type": "integer"
        },
        {
         "name": "dislike_count",
         "rawType": "int64",
         "type": "integer"
        },
        {
         "name": "favorite_count",
         "rawType": "int64",
         "type": "integer"
        },
        {
         "name": "comment_count",
         "rawType": "int64",
         "type": "integer"
        }
       ],
       "conversionMethod": "pd.DataFrame",
       "ref": "ae5bef14-0059-409d-a2c2-0d0b4ee47605",
       "rows": [
        [
         "0",
         "wsCmWZSASes",
         "Tank vs Roach FIGHT HIGHLIGHTS: March 1, 2025 | PBC on Prime Video PPV",
         "Gervonta Davis and Lamont Roach fought an epic battle in Brooklyn that had excitement, drama, and controversy. \n\n#TankRoach #GervontaDavis #LamontRoach \n\nVisit PremierBoxingChampions.com for more info.\n\nSIGN UP FOR FIGHT ALERTS: \n\nhttps://pbcham.ps/FightAlerts\n\nFOLLOW US:\n\nhttps://twitter.com/premierboxing\nhttps://instagram.com/premierboxing\nhttps://www.facebook.com/premierboxingchampions",
         "2025-03-02T06:35:42Z",
         "UCWXYAGB9SadlL6p5Bb66wWw",
         "Premier Boxing Champions",
         "17",
         "['Boxing', 'Gervonta Davis', 'Gervonta Davis vs. Lamont Roach Jr.', 'Lamont Roach Jr.', 'PBC', 'alhaymon', 'bestof', 'boxer', 'broner', 'canelo', 'fighter', 'fighting', 'highlights', 'ibf', 'ibo', 'knockouts', 'ko', 'mayweather', 'munguia', 'porter', 'showtimeboxing', 'spence', 'thurman', 'tko', 'wba', 'wbc', 'wbo', 'wilder', 'pbc', 'premier boxing', 'fight highlights', 'full fight highlights', 'davis vs roach', 'roach vs davis', 'gervonta tank davis', 'lamont roach', 'tank vs roach', 'roach vs tank', 'full fight', 'gervonta davis vs lamont roach jr', 'gervonta davis vs lamont roach']",
         "PT3M22S",
         "hd",
         "False",
         "2486351",
         "23841",
         "0",
         "0",
         "6725"
        ],
        [
         "1",
         "mS8W6NY6QjQ",
         "FULL SEGMENT: John Cena SELLS OUT and ruthlessly assaults Cody Rhodes: Elimination Chamber 2025",
         "After Undisputed WWE Champion Cody Rhodes emphatically declines The Rock's offer, John Cena shockingly attacks The American Nightmare, seemingly aligning with The Final Boss in an unforgettable conclusion to Elimination Chamber. Catch WWE action on Netflix, Peacock, USA Network, CW Network, Sony India and more.\nWhere to watch WWE: https://wwe.com/wheretowatch\r\n\r\nWatch WWE on Netflix: http://netflix.com/WWE\r\nWatch WWE on Peacock: https://pck.tv/3ZTjVE7\r\n---------------------------------------------------------------------\r\nFollow WWE for more exciting action! - Subscribe to WWE on YouTube: http://wwe.yt/\r\n---------------------------------------------------------------------\r\nCheck out WWE.com for news and updates: http://goo.gl/akf0J4\r\nWatch WWE on Sony in India: http://www.wwe.com/SonySportsNetwork\r\nFind the latest Superstar gear at WWEShop: http://shop.wwe.com\r\n---------------------------------------------\r\nCheck out these other channels!\r\n---------------------------------------------\r\nWWE Vault: http://www.youtube.com/@WWEVault\r\nWWE Español: https://www.youtube.com/@wweespanol\r\nWWE NXT: https://www.youtube.com/@wwenxt\r\nUpUpDownDown: https://www.youtube.com/upupdowndown\r\nCeltic Warrior Workouts: https://www.youtube.com/@CelticWarriorWorkouts\r\nWWE Music: https://www.youtube.com/wwemusic\r\n------------------------------------\r\nWWE on Social Media\r\n------------------------------------\r\nX: https://twitter.com/wwe\r\nFacebook: https://www.facebook.com/wwe\r\nInstagram: https://www.instagram.com/wwe/\r\nTikTok: https://www.tiktok.com/@wwe\r\n------------------------------------",
         "2025-03-02T05:03:43Z",
         "UCJ5v_MCY6GNUBTO8-D3XoAg",
         "WWE",
         "17",
         "['Cody Rhodes', 'John Cena', 'The Rock', 'Travis Scott', 'superstars', 'world wrestling entertainment', 'wrestle', 'wrestler', 'wrestling', 'wwe', 'wwe 2024', 'مصارعه', 'कुश्ती', 'डब्लू डब्लू ई', 'पहलवान', 'मैच', 'व्यावसायिक कुश्ती', 'सुपरस्टार', 'Elimination Chamber', 'Elimination Chamber 2025', 'WWE Elimination Chamber', 'Elimination Chamber wwe network', 'Elimination Chamber match', 'Elimination Chamber highlight', 'Elimination Chamber clip', 'Elimination Chamber watch', 'john cena heel turn', 'cody rhodes vs john cena']",
         "PT17M23S",
         "hd",
         "True",
         "3695350",
         "136355",
         "0",
         "0",
         "23592"
        ],
        [
         "2",
         "kmXkr7I8gYo",
         "Tank Davis vs Roach FIGHT HIGHLIGHTS | Premier Boxing Champions | Prime Video",
         "In a back and forth battle At Barclays Center, Gervonta \"Tank\" Davis vs. Lamont Roach results in a majority draw. \n\n» Subscribe to Sports on Prime: https://www.youtube.com/@SportsOnPrime?sub_confirmation=1 \n\nAbout Prime Video:\nPrime Video supports a growing lineup of live sports globally, including Thursday Night Football, the WNBA, the Seattle Storm, the New York Yankees, Overtime Elite, and the Professional Pickleball Association in the United States; ONE Championship and NWSL in the United States and Canada; Premier League in the United Kingdom; ATP and WTA tennis in the United Kingdom and Ireland; UEFA Champions League football in Germany and Italy; Roland-Garros and Ligue 1 in France; Australian swimming globally; New Zealand Cricket in India; as well as Copa do Brasil football and the NBA in Brazil; and boxing and the 2023 World Baseball Classic in Japan. While availability varies by marketplace, fans can also subscribe to streaming services such as Eurosport, FOX Sports (Mexico), Viaplay Sport, MLB.TV, NBA League Pass, NBA TV, DAZN (Germany and Spain), and Premiere FC (Brazil) through Prime Video Channels. This is in addition to a selection of Amazon Original documentaries including Kelce, Good Rivals, Coach Prime, Reggie, Redefined: J.R. Smith, The Ride, and the Amazon Original All or Nothing franchise, including All or Nothing: Arsenal, All or Nothing: Juventus, All or Nothing: Toronto Maple Leafs, and All or Nothing seasons with various NFL teams, as well as the NCAA’s Michigan Wolverines football team.\n\nSubscribe to our channel for the latest sports highlights, off-field moments, documentaries, and originals!\n\nGet More Sports on Prime: \nStream Now: https://www.amazon.com/gp/video/storefront/ref=atv_hom_pri_c_9zZ8D2_hm_sports\nFacebook: https://www.facebook.com/profile.php?id=61558678576247\nX: https://www.twitter.com/sportsonprime\nInstagram: https://www.instagram.com/sportsonprime\nTikTok: https://wwww.tiktok.com/@sportsonprime\nThreads: https://www.threads.net/@sportsonprime",
         "2025-03-02T05:45:58Z",
         "UC2Ss8mXyksW2SQfhhUpgR2g",
         "Sports On Prime",
         "17",
         "[]",
         "PT6M10S",
         "hd",
         "False",
         "505161",
         "4137",
         "0",
         "0",
         "2392"
        ],
        [
         "3",
         "fpBqWFhefNA",
         "Gervonta Davis FULL Post Fight Press Conference vs Lamont Roach after DRAW!",
         "In this video we hear from Gervonta Davis after a controversial majority draw vs Lamont Roach in Brooklyn, NY. What did you think of the fight and how did you score it? Sound off in the comments below!\n\nGervonta Davis FULL Post Fight Press Conference vs Lamont Roach after DRAW!\n\nGervonta Davis FULL POST FIGHT PRESS CONFERENCE after CONTROVERSIAL DRAW vs Lamont Roach\n\nSubscribe: http://goo.gl/vnzIb \n\nFollow Fight Hub TV \nInstagram: https://instagram.com/fighthubtv \nTwitter: https://twitter.com/FightHubTV \nFacebook: https://www.facebook.com/FightHubTV\nTiktok: https://www.tiktok.com/@fighthubtv\nMarcos Twitter: https://twitter.com/heyitsmarcosv \nMarcos Instagram: https://instagram.com/heyitsmarcosv \n\nWatch more videos! \nOUR NEWEST 2024 VIDEOS: https://www.youtube.com/playlist?list=PL_-4P2CTc7AVgcaTWRqoxgv2LBCP6Iguh\n\nFIGHT HUB’S GREATEST HITS: https://youtube.com/playlist?list=PL_-4P2CTc7AU4QQO0a40FoBKflPoW4vad\n\nCRAZY KO'S : https://youtube.com/playlist?list=PL_-4P2CTc7AUjj5fd_vy25uqsLOP2qpaM\n\nBACK & FORTH FIGHTS: https://youtube.com/playlist?list=PL_-4P2CTc7AXz1BXa75dXsZlPyyZ_XTF7\n\nFight Hub TV brings to you daily video content from the world of boxing, MMA and combat sports! On this channel you will find a variety of content like boxing news, MMA interviews, boxing interviews and more! Make sure to subscribe and enable all notifications! \n\n#boxing #FightHubTV #gervontadavis",
         "2025-03-02T07:56:54Z",
         "UCwdVyruxCCqMR4DtPLhtwlg",
         "Fight Hub TV",
         "17",
         "['boxing', 'fight hub', 'fight hub tv', 'fight hub tv youtube', 'fighthubtv', 'gervonta davis', 'lamont roach', 'gervonta davis vs lamont roach', 'gervonta davis vs lamont roach post fight', 'gervonta davis vs lamont roach post fight press conference', 'tank davis post fight', 'gervonta davis post fight', 'tank']",
         "PT14M15S",
         "hd",
         "False",
         "576349",
         "7553",
         "0",
         "0",
         "4290"
        ],
        [
         "4",
         "1mtJvsfAtF0",
         "Sabrina Carpenter - Espresso/Bed Chem (Live at The BRIT Awards 2025)",
         "Sabrina Carpenter performs “Espresso” & “Bed Chem” at The Brit Awards 2025\n\nListen to Short n’ Sweet Deluxe, out now: https://sabrinacarpenter.lnk.to/ShortNSweetDeluxe\nWatch all Short n’ Sweet videos here: http://SabrinaCarpenter.lnk.to/ShortnSweetVideos\n \nNew merch available: https://SabrinaCarpenter.lnk.to/Merch\n \nSubscribe to Sabrina’s channel: https://bit.ly/SCYTsubscribe\n \nFollow Sabrina Carpenter: https://linktr.ee/sabrinacarpenter\nInstagram: https://www.instagram.com/sabrinacarpenter\nFacebook: https://www.facebook.com/sabrinacarpenter\nTwitter: https://x.com/SabrinaAnnLynn\nTikTok:  https://www.tiktok.com/@sabrinacarpenter\n\nFollow Team Sabrina:\nInstagram: https://www.instagram.com/teamsabrina/?hl=en \nTikTok: https://www.tiktok.com/@teamsabrina \nTwitter: https://x.com/TeamSabrina \n \n#SabrinaCarpenter #Espresso #BedChem #BRITs \n\nMusic video by Sabrina Carpenter performing Espresso / Bed Chem (Live at The BRIT Awards / 2025).© 2025 The Recording Academy, under license to UMG Recordings, Inc",
         "2025-03-02T02:30:47Z",
         "UC4mYKePIas5YgGfYZ2J2OxQ",
         "SabrinaCarpenterVEVO",
         "10",
         "['Sabrina Carpenter', 'Island Records', 'Pop']",
         "PT5M13S",
         "hd",
         "True",
         "1529450",
         "90686",
         "0",
         "0",
         "4110"
        ]
       ],
       "shape": {
        "columns": 16,
        "rows": 5
       }
      },
      "text/html": [
       "<div>\n",
       "<style scoped>\n",
       "    .dataframe tbody tr th:only-of-type {\n",
       "        vertical-align: middle;\n",
       "    }\n",
       "\n",
       "    .dataframe tbody tr th {\n",
       "        vertical-align: top;\n",
       "    }\n",
       "\n",
       "    .dataframe thead th {\n",
       "        text-align: right;\n",
       "    }\n",
       "</style>\n",
       "<table border=\"1\" class=\"dataframe\">\n",
       "  <thead>\n",
       "    <tr style=\"text-align: right;\">\n",
       "      <th></th>\n",
       "      <th>video_id</th>\n",
       "      <th>title</th>\n",
       "      <th>description</th>\n",
       "      <th>published_at</th>\n",
       "      <th>channel_id</th>\n",
       "      <th>channel_title</th>\n",
       "      <th>category_id</th>\n",
       "      <th>tags</th>\n",
       "      <th>duration</th>\n",
       "      <th>definition</th>\n",
       "      <th>caption</th>\n",
       "      <th>view_count</th>\n",
       "      <th>like_count</th>\n",
       "      <th>dislike_count</th>\n",
       "      <th>favorite_count</th>\n",
       "      <th>comment_count</th>\n",
       "    </tr>\n",
       "  </thead>\n",
       "  <tbody>\n",
       "    <tr>\n",
       "      <th>0</th>\n",
       "      <td>wsCmWZSASes</td>\n",
       "      <td>Tank vs Roach FIGHT HIGHLIGHTS: March 1, 2025 ...</td>\n",
       "      <td>Gervonta Davis and Lamont Roach fought an epic...</td>\n",
       "      <td>2025-03-02T06:35:42Z</td>\n",
       "      <td>UCWXYAGB9SadlL6p5Bb66wWw</td>\n",
       "      <td>Premier Boxing Champions</td>\n",
       "      <td>17</td>\n",
       "      <td>['Boxing', 'Gervonta Davis', 'Gervonta Davis v...</td>\n",
       "      <td>PT3M22S</td>\n",
       "      <td>hd</td>\n",
       "      <td>False</td>\n",
       "      <td>2486351</td>\n",
       "      <td>23841</td>\n",
       "      <td>0</td>\n",
       "      <td>0</td>\n",
       "      <td>6725</td>\n",
       "    </tr>\n",
       "    <tr>\n",
       "      <th>1</th>\n",
       "      <td>mS8W6NY6QjQ</td>\n",
       "      <td>FULL SEGMENT: John Cena SELLS OUT and ruthless...</td>\n",
       "      <td>After Undisputed WWE Champion Cody Rhodes emph...</td>\n",
       "      <td>2025-03-02T05:03:43Z</td>\n",
       "      <td>UCJ5v_MCY6GNUBTO8-D3XoAg</td>\n",
       "      <td>WWE</td>\n",
       "      <td>17</td>\n",
       "      <td>['Cody Rhodes', 'John Cena', 'The Rock', 'Trav...</td>\n",
       "      <td>PT17M23S</td>\n",
       "      <td>hd</td>\n",
       "      <td>True</td>\n",
       "      <td>3695350</td>\n",
       "      <td>136355</td>\n",
       "      <td>0</td>\n",
       "      <td>0</td>\n",
       "      <td>23592</td>\n",
       "    </tr>\n",
       "    <tr>\n",
       "      <th>2</th>\n",
       "      <td>kmXkr7I8gYo</td>\n",
       "      <td>Tank Davis vs Roach FIGHT HIGHLIGHTS | Premier...</td>\n",
       "      <td>In a back and forth battle At Barclays Center,...</td>\n",
       "      <td>2025-03-02T05:45:58Z</td>\n",
       "      <td>UC2Ss8mXyksW2SQfhhUpgR2g</td>\n",
       "      <td>Sports On Prime</td>\n",
       "      <td>17</td>\n",
       "      <td>[]</td>\n",
       "      <td>PT6M10S</td>\n",
       "      <td>hd</td>\n",
       "      <td>False</td>\n",
       "      <td>505161</td>\n",
       "      <td>4137</td>\n",
       "      <td>0</td>\n",
       "      <td>0</td>\n",
       "      <td>2392</td>\n",
       "    </tr>\n",
       "    <tr>\n",
       "      <th>3</th>\n",
       "      <td>fpBqWFhefNA</td>\n",
       "      <td>Gervonta Davis FULL Post Fight Press Conferenc...</td>\n",
       "      <td>In this video we hear from Gervonta Davis afte...</td>\n",
       "      <td>2025-03-02T07:56:54Z</td>\n",
       "      <td>UCwdVyruxCCqMR4DtPLhtwlg</td>\n",
       "      <td>Fight Hub TV</td>\n",
       "      <td>17</td>\n",
       "      <td>['boxing', 'fight hub', 'fight hub tv', 'fight...</td>\n",
       "      <td>PT14M15S</td>\n",
       "      <td>hd</td>\n",
       "      <td>False</td>\n",
       "      <td>576349</td>\n",
       "      <td>7553</td>\n",
       "      <td>0</td>\n",
       "      <td>0</td>\n",
       "      <td>4290</td>\n",
       "    </tr>\n",
       "    <tr>\n",
       "      <th>4</th>\n",
       "      <td>1mtJvsfAtF0</td>\n",
       "      <td>Sabrina Carpenter - Espresso/Bed Chem (Live at...</td>\n",
       "      <td>Sabrina Carpenter performs “Espresso” &amp; “Bed C...</td>\n",
       "      <td>2025-03-02T02:30:47Z</td>\n",
       "      <td>UC4mYKePIas5YgGfYZ2J2OxQ</td>\n",
       "      <td>SabrinaCarpenterVEVO</td>\n",
       "      <td>10</td>\n",
       "      <td>['Sabrina Carpenter', 'Island Records', 'Pop']</td>\n",
       "      <td>PT5M13S</td>\n",
       "      <td>hd</td>\n",
       "      <td>True</td>\n",
       "      <td>1529450</td>\n",
       "      <td>90686</td>\n",
       "      <td>0</td>\n",
       "      <td>0</td>\n",
       "      <td>4110</td>\n",
       "    </tr>\n",
       "  </tbody>\n",
       "</table>\n",
       "</div>"
      ],
      "text/plain": [
       "      video_id                                              title  \\\n",
       "0  wsCmWZSASes  Tank vs Roach FIGHT HIGHLIGHTS: March 1, 2025 ...   \n",
       "1  mS8W6NY6QjQ  FULL SEGMENT: John Cena SELLS OUT and ruthless...   \n",
       "2  kmXkr7I8gYo  Tank Davis vs Roach FIGHT HIGHLIGHTS | Premier...   \n",
       "3  fpBqWFhefNA  Gervonta Davis FULL Post Fight Press Conferenc...   \n",
       "4  1mtJvsfAtF0  Sabrina Carpenter - Espresso/Bed Chem (Live at...   \n",
       "\n",
       "                                         description          published_at  \\\n",
       "0  Gervonta Davis and Lamont Roach fought an epic...  2025-03-02T06:35:42Z   \n",
       "1  After Undisputed WWE Champion Cody Rhodes emph...  2025-03-02T05:03:43Z   \n",
       "2  In a back and forth battle At Barclays Center,...  2025-03-02T05:45:58Z   \n",
       "3  In this video we hear from Gervonta Davis afte...  2025-03-02T07:56:54Z   \n",
       "4  Sabrina Carpenter performs “Espresso” & “Bed C...  2025-03-02T02:30:47Z   \n",
       "\n",
       "                 channel_id             channel_title  category_id  \\\n",
       "0  UCWXYAGB9SadlL6p5Bb66wWw  Premier Boxing Champions           17   \n",
       "1  UCJ5v_MCY6GNUBTO8-D3XoAg                       WWE           17   \n",
       "2  UC2Ss8mXyksW2SQfhhUpgR2g           Sports On Prime           17   \n",
       "3  UCwdVyruxCCqMR4DtPLhtwlg              Fight Hub TV           17   \n",
       "4  UC4mYKePIas5YgGfYZ2J2OxQ      SabrinaCarpenterVEVO           10   \n",
       "\n",
       "                                                tags  duration definition  \\\n",
       "0  ['Boxing', 'Gervonta Davis', 'Gervonta Davis v...   PT3M22S         hd   \n",
       "1  ['Cody Rhodes', 'John Cena', 'The Rock', 'Trav...  PT17M23S         hd   \n",
       "2                                                 []   PT6M10S         hd   \n",
       "3  ['boxing', 'fight hub', 'fight hub tv', 'fight...  PT14M15S         hd   \n",
       "4     ['Sabrina Carpenter', 'Island Records', 'Pop']   PT5M13S         hd   \n",
       "\n",
       "   caption  view_count  like_count  dislike_count  favorite_count  \\\n",
       "0    False     2486351       23841              0               0   \n",
       "1     True     3695350      136355              0               0   \n",
       "2    False      505161        4137              0               0   \n",
       "3    False      576349        7553              0               0   \n",
       "4     True     1529450       90686              0               0   \n",
       "\n",
       "   comment_count  \n",
       "0           6725  \n",
       "1          23592  \n",
       "2           2392  \n",
       "3           4290  \n",
       "4           4110  "
      ]
     },
     "execution_count": 2,
     "metadata": {},
     "output_type": "execute_result"
    }
   ],
   "source": [
    "import pandas as pd\n",
    "import matplotlib.pyplot as plt\n",
    "import numpy as np\n",
    "import seaborn as sns\n",
    "from matplotlib.ticker import FuncFormatter\n",
    "\n",
    "import warnings\n",
    "warnings.filterwarnings('ignore')\n",
    "\n",
    "df = pd.read_csv(r'C:\\Users\\modyr\\Desktop\\Youtube Analysis\\Youtube_Data_Analysis\\yt_data.csv')\n",
    "\n",
    "df.head()"
   ]
  },
  {
   "cell_type": "code",
   "execution_count": 3,
   "metadata": {},
   "outputs": [
    {
     "data": {
      "text/plain": [
       "Index(['video_id', 'title', 'description', 'published_at', 'channel_id',\n",
       "       'channel_title', 'category_id', 'tags', 'duration', 'definition',\n",
       "       'caption', 'view_count', 'like_count', 'dislike_count',\n",
       "       'favorite_count', 'comment_count'],\n",
       "      dtype='object')"
      ]
     },
     "execution_count": 3,
     "metadata": {},
     "output_type": "execute_result"
    }
   ],
   "source": [
    "df.columns"
   ]
  },
  {
   "cell_type": "code",
   "execution_count": 9,
   "metadata": {},
   "outputs": [
    {
     "data": {
      "application/vnd.microsoft.datawrangler.viewer.v0+json": {
       "columns": [
        {
         "name": "index",
         "rawType": "int64",
         "type": "integer"
        },
        {
         "name": "title",
         "rawType": "object",
         "type": "string"
        },
        {
         "name": "channel_title",
         "rawType": "object",
         "type": "string"
        },
        {
         "name": "like_count",
         "rawType": "float64",
         "type": "float"
        }
       ],
       "conversionMethod": "pd.DataFrame",
       "ref": "b80fcc2e-b4e8-47e7-83b3-b35b1832a2a2",
       "rows": [
        [
         "0",
         "I Spent 100 Hours Inside The Pyramids!",
         "MrBeast",
         "4613046.0"
        ],
        [
         "1",
         "Kendrick Lamar's Apple Music Super Bowl Halftime Show",
         "NFL",
         "3039016.0"
        ],
        [
         "2",
         "JENNIE, Doechii - ExtraL (Official Video)",
         "JennieRubyJaneVEVO",
         "1621550.0"
        ],
        [
         "3",
         "100 People Trapped Inside 100 Circles For $500,000",
         "MrBeast",
         "1260536.0"
        ],
        [
         "4",
         "LISA - FUTW (Vixi Solo Version) (Official Music Video)",
         "LLOUD Official",
         "1174983.0"
        ],
        [
         "5",
         "G-DRAGON - TOO BAD (feat. Anderson .Paak) (Official Video)",
         "OfficialGDRAGON",
         "568160.0"
        ],
        [
         "6",
         "JENNIE - Ruby (Official Album Sampler)",
         "JENNIE",
         "554752.0"
        ],
        [
         "7",
         "IS THIS THE BEST BRAWLER EVER?!",
         "Brawl Stars",
         "507157.0"
        ],
        [
         "8",
         "Hearts2Hearts 하츠투하츠 'The Chase' MV",
         "SMTOWN",
         "479860.0"
        ],
        [
         "9",
         "G-DRAGON - DRAMA (Official Video)",
         "OfficialGDRAGON",
         "427404.0"
        ]
       ],
       "shape": {
        "columns": 3,
        "rows": 10
       }
      },
      "text/html": [
       "<div>\n",
       "<style scoped>\n",
       "    .dataframe tbody tr th:only-of-type {\n",
       "        vertical-align: middle;\n",
       "    }\n",
       "\n",
       "    .dataframe tbody tr th {\n",
       "        vertical-align: top;\n",
       "    }\n",
       "\n",
       "    .dataframe thead th {\n",
       "        text-align: right;\n",
       "    }\n",
       "</style>\n",
       "<table border=\"1\" class=\"dataframe\">\n",
       "  <thead>\n",
       "    <tr style=\"text-align: right;\">\n",
       "      <th></th>\n",
       "      <th>title</th>\n",
       "      <th>channel_title</th>\n",
       "      <th>like_count</th>\n",
       "    </tr>\n",
       "  </thead>\n",
       "  <tbody>\n",
       "    <tr>\n",
       "      <th>0</th>\n",
       "      <td>I Spent 100 Hours Inside The Pyramids!</td>\n",
       "      <td>MrBeast</td>\n",
       "      <td>4613046.0</td>\n",
       "    </tr>\n",
       "    <tr>\n",
       "      <th>1</th>\n",
       "      <td>Kendrick Lamar's Apple Music Super Bowl Halfti...</td>\n",
       "      <td>NFL</td>\n",
       "      <td>3039016.0</td>\n",
       "    </tr>\n",
       "    <tr>\n",
       "      <th>2</th>\n",
       "      <td>JENNIE, Doechii - ExtraL (Official Video)</td>\n",
       "      <td>JennieRubyJaneVEVO</td>\n",
       "      <td>1621550.0</td>\n",
       "    </tr>\n",
       "    <tr>\n",
       "      <th>3</th>\n",
       "      <td>100 People Trapped Inside 100 Circles For $500...</td>\n",
       "      <td>MrBeast</td>\n",
       "      <td>1260536.0</td>\n",
       "    </tr>\n",
       "    <tr>\n",
       "      <th>4</th>\n",
       "      <td>LISA - FUTW (Vixi Solo Version) (Official Musi...</td>\n",
       "      <td>LLOUD Official</td>\n",
       "      <td>1174983.0</td>\n",
       "    </tr>\n",
       "    <tr>\n",
       "      <th>5</th>\n",
       "      <td>G-DRAGON - TOO BAD (feat. Anderson .Paak) (Off...</td>\n",
       "      <td>OfficialGDRAGON</td>\n",
       "      <td>568160.0</td>\n",
       "    </tr>\n",
       "    <tr>\n",
       "      <th>6</th>\n",
       "      <td>JENNIE - Ruby (Official Album Sampler)</td>\n",
       "      <td>JENNIE</td>\n",
       "      <td>554752.0</td>\n",
       "    </tr>\n",
       "    <tr>\n",
       "      <th>7</th>\n",
       "      <td>IS THIS THE BEST BRAWLER EVER?!</td>\n",
       "      <td>Brawl Stars</td>\n",
       "      <td>507157.0</td>\n",
       "    </tr>\n",
       "    <tr>\n",
       "      <th>8</th>\n",
       "      <td>Hearts2Hearts 하츠투하츠 'The Chase' MV</td>\n",
       "      <td>SMTOWN</td>\n",
       "      <td>479860.0</td>\n",
       "    </tr>\n",
       "    <tr>\n",
       "      <th>9</th>\n",
       "      <td>G-DRAGON - DRAMA (Official Video)</td>\n",
       "      <td>OfficialGDRAGON</td>\n",
       "      <td>427404.0</td>\n",
       "    </tr>\n",
       "  </tbody>\n",
       "</table>\n",
       "</div>"
      ],
      "text/plain": [
       "                                               title       channel_title  \\\n",
       "0             I Spent 100 Hours Inside The Pyramids!             MrBeast   \n",
       "1  Kendrick Lamar's Apple Music Super Bowl Halfti...                 NFL   \n",
       "2          JENNIE, Doechii - ExtraL (Official Video)  JennieRubyJaneVEVO   \n",
       "3  100 People Trapped Inside 100 Circles For $500...             MrBeast   \n",
       "4  LISA - FUTW (Vixi Solo Version) (Official Musi...      LLOUD Official   \n",
       "5  G-DRAGON - TOO BAD (feat. Anderson .Paak) (Off...     OfficialGDRAGON   \n",
       "6             JENNIE - Ruby (Official Album Sampler)              JENNIE   \n",
       "7                    IS THIS THE BEST BRAWLER EVER?!         Brawl Stars   \n",
       "8                 Hearts2Hearts 하츠투하츠 'The Chase' MV              SMTOWN   \n",
       "9                  G-DRAGON - DRAMA (Official Video)     OfficialGDRAGON   \n",
       "\n",
       "   like_count  \n",
       "0   4613046.0  \n",
       "1   3039016.0  \n",
       "2   1621550.0  \n",
       "3   1260536.0  \n",
       "4   1174983.0  \n",
       "5    568160.0  \n",
       "6    554752.0  \n",
       "7    507157.0  \n",
       "8    479860.0  \n",
       "9    427404.0  "
      ]
     },
     "execution_count": 9,
     "metadata": {},
     "output_type": "execute_result"
    }
   ],
   "source": [
    "top_videos_by_likes = df.pivot_table(index=['title', 'channel_title'], \n",
    "                                     values='like_count'\n",
    "                                     ).sort_values('like_count', ascending=False).head(10)\n",
    "\n",
    "top_videos_by_likes = top_videos_by_likes.reset_index()\n",
    "top_videos_by_likes"
   ]
  },
  {
   "cell_type": "code",
   "execution_count": 12,
   "metadata": {},
   "outputs": [
    {
     "data": {
      "image/png": "[encoded data removed]",
      "text/plain": [
       "<Figure size 1200x500 with 1 Axes>"
      ]
     },
     "metadata": {},
     "output_type": "display_data"
    }
   ],
   "source": [
    "plt.figure(figsize=(12, 5))\n",
    "sns.barplot(data=top_videos_by_likes,\n",
    "            x='like_count',\n",
    "            y='title',\n",
    "            palette='Blues_r',\n",
    "            edgecolor='k', \n",
    "            hue='channel_title',\n",
    "            dodge=False,\n",
    "            )\n",
    "\n",
    "def num_format(x, pos):\n",
    "    if x >= 1e6:\n",
    "        return '{:1.1f}M'.format(x*1e-6)\n",
    "    elif x >= 1e3:\n",
    "        return '{:1.1f}K'.format(x*1e-3)\n",
    "    else:\n",
    "        return '{:1.1f}'.format(x)\n",
    "\n",
    "# Applying the custom formatter to the x-axis\n",
    "plt.gca().xaxis.set_major_formatter(FuncFormatter(num_format))\n",
    "\n",
    "plt.title('Top 10 Videos by Likes', pad=15)\n",
    "plt.xlabel('Numbers of likes')\n",
    "plt.ylabel(\"\")\n",
    "plt.legend(title='Channel Name', bbox_to_anchor=(1.05, 1), loc='upper left', fontsize=8, title_fontsize=10, frameon=False)\n",
    "\n",
    "sns.despine()\n",
    "plt.tight_layout()\n",
    "plt.show()"
   ]
  },
  {
   "cell_type": "markdown",
   "metadata": {},
   "source": [
    "**Key Insights:**  \n",
    "\n",
    "1. **MrBeast’s Challenge Content Dominates Positive Sentiment**:  \n",
    "   - MrBeast’s \"I Spent 100 Hours Inside The Pyramids!\" leads with **~4.5M likes**, reaffirming the appeal of high-concept, immersive challenges that resonate emotionally with audiences.  \n",
    "\n",
    "2. **Live Events & Sports Content Spark Broad Approval**:  \n",
    "   - The NFL’s Super Bowl Halftime Show ranks second (~3M likes), highlighting how live events and performances garner widespread approval, likely due to their cultural relevance and entertainment value.  \n",
    "\n",
    "3. **K-Pop Music Videos Drive Consistent Engagement**:  \n",
    "   - Multiple entries from **Jennie**, **Lisa**, and **G-DRAGON** (SMTOWN/OfficialGDRAGON channels) secure mid-tier rankings (~500K–1.5M likes). This reflects the global fandom’s loyalty and tendency to engage positively with official releases.  \n",
    "\n",
    "4. **Contrast Between Likes and Comments**:  \n",
    "   - While MrBeast’s video tops likes, the NFL’s content generates more comments (earlier analysis). This suggests **challenges inspire admiration** (likes), while **live events provoke discussion** (comments).  "
   ]
  },
  {
   "cell_type": "code",
   "execution_count": 13,
   "metadata": {},
   "outputs": [
    {
     "data": {
      "image/png": "[encoded data removed]",
      "text/plain": [
       "<Figure size 800x400 with 1 Axes>"
      ]
     },
     "metadata": {},
     "output_type": "display_data"
    }
   ],
   "source": [
    "plt.figure(figsize=(8, 4))\n",
    "sns.histplot(data=df,\n",
    "             x='like_count',\n",
    "             bins=50,\n",
    "             color='blue',\n",
    "             kde=True,\n",
    "             edgecolor='k'\n",
    "             )\n",
    "\n",
    "# Function to format the values\n",
    "def num_format(x, pos):\n",
    "    if x >= 1e6:\n",
    "        return '{:1.1f}M'.format(x*1e-6)\n",
    "    elif x >= 1e3:\n",
    "        return '{:1.0f}K'.format(x*1e-3)\n",
    "    else:\n",
    "        return '{:1.0f}'.format(x)\n",
    "\n",
    "# Applying the custom formatter to the x-axis\n",
    "plt.gca().xaxis.set_major_formatter(FuncFormatter(num_format))\n",
    "\n",
    "plt.title('Distribution of Videos by Number of Likes')\n",
    "plt.ylabel('Frequency')\n",
    "plt.xlabel('Number of Likes')\n",
    "plt.xlim(0, None)\n",
    "sns.despine()\n",
    "plt.tight_layout()\n",
    "plt.show()\n"
   ]
  },
  {
   "cell_type": "markdown",
   "metadata": {},
   "source": [
    "**Key Insights:**  \n",
    "\n",
    "1. **Extreme Skewness in Engagement**:  \n",
    "   - The chart reveals a **power-law distribution**, where **a tiny fraction of videos dominate like activity**. Most videos (~150) receive fewer than 50K likes, while a handful (e.g., MrBeast’s pyramid challenge) garner over 4M likes. This mirrors the \"long-tail\" trend observed in views and comments, emphasizing that **only outliers achieve massive engagement**.  \n",
    "\n",
    "2. **Algorithmic Amplification of Viral Content**:  \n",
    "   - The steep drop-off post-100K likes highlights YouTube’s algorithmic bias toward promoting content that gains initial traction. Videos with rapid early engagement enter a feedback loop, receiving more visibility and likes, while others stagnate.  \n",
    "\n",
    "3. **Contrast Between Top-Liked and Average Videos**:  \n",
    "   - While MrBeast’s challenge video dominates likes (~4.5M), most videos fail to surpass 50K. This underscores the **rarity of viral success** and the challenge for creators to break through the noise.  "
   ]
  }
 ],
 "metadata": {
  "kernelspec": {
   "display_name": "yt_analysis",
   "language": "python",
   "name": "python3"
  },
  "language_info": {
   "codemirror_mode": {
    "name": "ipython",
    "version": 3
   },
   "file_extension": ".py",
   "mimetype": "text/x-python",
   "name": "python",
   "nbconvert_exporter": "python",
   "pygments_lexer": "ipython3",
   "version": "3.12.9"
  }
 },
 "nbformat": 4,
 "nbformat_minor": 2
}
